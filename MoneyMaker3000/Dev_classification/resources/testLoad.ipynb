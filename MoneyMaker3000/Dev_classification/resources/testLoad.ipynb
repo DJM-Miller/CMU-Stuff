{
 "cells": [
  {
   "cell_type": "code",
   "execution_count": 2,
   "metadata": {},
   "outputs": [
    {
     "name": "stdout",
     "output_type": "stream",
     "text": [
      "Collecting requests\n",
      "  Downloading requests-2.28.2-py3-none-any.whl (62 kB)\n",
      "     ---------------------------------------- 62.8/62.8 kB 1.7 MB/s eta 0:00:00\n",
      "Collecting charset-normalizer<4,>=2\n",
      "  Downloading charset_normalizer-3.0.1-cp310-cp310-win_amd64.whl (96 kB)\n",
      "     ---------------------------------------- 96.5/96.5 kB 5.4 MB/s eta 0:00:00\n",
      "Requirement already satisfied: idna<4,>=2.5 in c:\\users\\prime\\appdata\\local\\packages\\pythonsoftwarefoundation.python.3.10_qbz5n2kfra8p0\\localcache\\local-packages\\python310\\site-packages (from requests) (3.4)\n",
      "Collecting urllib3<1.27,>=1.21.1\n",
      "  Downloading urllib3-1.26.14-py2.py3-none-any.whl (140 kB)\n",
      "     -------------------------------------- 140.6/140.6 kB 8.7 MB/s eta 0:00:00\n",
      "Collecting certifi>=2017.4.17\n",
      "  Downloading certifi-2022.12.7-py3-none-any.whl (155 kB)\n",
      "     -------------------------------------- 155.3/155.3 kB 9.7 MB/s eta 0:00:00\n",
      "Installing collected packages: charset-normalizer, urllib3, certifi, requests\n",
      "Successfully installed certifi-2022.12.7 charset-normalizer-3.0.1 requests-2.28.2 urllib3-1.26.14\n"
     ]
    },
    {
     "name": "stderr",
     "output_type": "stream",
     "text": [
      "  WARNING: The script normalizer.exe is installed in 'C:\\Users\\prime\\AppData\\Local\\Packages\\PythonSoftwareFoundation.Python.3.10_qbz5n2kfra8p0\\LocalCache\\local-packages\\Python310\\Scripts' which is not on PATH.\n",
      "  Consider adding this directory to PATH or, if you prefer to suppress this warning, use --no-warn-script-location.\n",
      "\n",
      "[notice] A new release of pip available: 22.3.1 -> 23.0.1\n",
      "[notice] To update, run: C:\\Users\\prime\\AppData\\Local\\Microsoft\\WindowsApps\\PythonSoftwareFoundation.Python.3.10_qbz5n2kfra8p0\\python.exe -m pip install --upgrade pip\n"
     ]
    }
   ],
   "source": [
    "! python3 -m pip install requests"
   ]
  },
  {
   "attachments": {},
   "cell_type": "markdown",
   "metadata": {},
   "source": [
    "# Pull Current Data Test\n",
    "Test to see if pulling new data will work"
   ]
  },
  {
   "cell_type": "code",
   "execution_count": 15,
   "metadata": {},
   "outputs": [
    {
     "name": "stdout",
     "output_type": "stream",
     "text": [
      "['Date', 'Open', 'High', 'Low', 'Close', 'Adj Close', 'Volume']\n",
      "['1980-12-12', '0.128348', '0.128906', '0.128348', '0.128348', '0.099722', '469033600']\n",
      "['1980-12-15', '0.122210', '0.122210', '0.121652', '0.121652', '0.094519', '175884800']\n",
      "['1980-12-16', '0.113281', '0.113281', '0.112723', '0.112723', '0.087582', '105728000']\n",
      "['1980-12-17', '0.115513', '0.116071', '0.115513', '0.115513', '0.089749', '86441600']\n",
      "['1980-12-18', '0.118862', '0.119420', '0.118862', '0.118862', '0.092351', '73449600']\n",
      "['1980-12-19', '0.126116', '0.126674', '0.126116', '0.126116', '0.097987', '48630400']\n",
      "['1980-12-22', '0.132254', '0.132813', '0.132254', '0.132254', '0.102756', '37363200']\n",
      "['1980-12-23', '0.137835', '0.138393', '0.137835', '0.137835', '0.107093', '46950400']\n",
      "['1980-12-24', '0.145089', '0.145647', '0.145089', '0.145089', '0.112729', '48003200']\n"
     ]
    }
   ],
   "source": [
    "import requests\n",
    "import csv \n",
    "\n",
    "\n",
    "# URL of the CSV file to be downloaded\n",
    "url = 'https://query1.finance.yahoo.com/v7/finance/download/AAPL?period1=345427200&period2=1678752000&interval=1d&events=history&includeAdjustedClose=true'\n",
    "\n",
    "# Send a GET request to the URL. Headers are needed because the site does not allow non-Users to download\n",
    "headers = {'User-Agent': 'Mozilla/5.0 (Macintosh; Intel Mac OS X 10_11_5) AppleWebKit/537.36 (KHTML, like Gecko) Chrome/50.0.2661.102 Safari/537.36'}\n",
    "response = requests.get(url, headers=headers)\n",
    "\n",
    "\n",
    "# Check if the request was successful\n",
    "if response.status_code == 200:\n",
    "    # Parse the response content as a text string and split it into lines\n",
    "    lines = response.content.decode('utf-8').splitlines()\n",
    "\n",
    "    # Create a CSV reader object and read the contents of the file\n",
    "    reader = csv.reader(lines)\n",
    "    data = list(reader)\n",
    "\n",
    "    # Print the first 10 rows of the CSV file\n",
    "    for row in data[:10]:\n",
    "        print(row)\n",
    "else:\n",
    "    print(f'Request failed with status code {response.status_code}')\n",
    "\n",
    "\n",
    "# Path of the CSV file to be created\n",
    "filename = '../preprocessing/data/apple/data.csv'\n",
    "\n",
    "# Open the CSV file for writing\n",
    "with open(filename, 'w', newline='') as file:\n",
    "    # Create a CSV writer object\n",
    "    writer = csv.writer(file)\n",
    "\n",
    "    # Write the data to the CSV file\n",
    "    for row in data:\n",
    "        writer.writerow(row)"
   ]
  },
  {
   "cell_type": "code",
   "execution_count": 9,
   "metadata": {},
   "outputs": [
    {
     "data": {
      "text/plain": [
       "(10651, 6)"
      ]
     },
     "execution_count": 9,
     "metadata": {},
     "output_type": "execute_result"
    }
   ],
   "source": [
    "import pandas as pd\n",
    "\n",
    "appl_data = pd.read_csv(filename, index_col='Date')\n",
    "appl_data.head()\n",
    "appl_data.shape"
   ]
  },
  {
   "cell_type": "code",
   "execution_count": 14,
   "metadata": {},
   "outputs": [
    {
     "name": "stdout",
     "output_type": "stream",
     "text": [
      "/c/Users/prime/OneDrive/Documents/CMU/PythonMachineLearning-CSCI425/MoneyMaker3000/resources\n"
     ]
    }
   ],
   "source": [
    "! pwd"
   ]
  },
  {
   "cell_type": "code",
   "execution_count": null,
   "metadata": {},
   "outputs": [],
   "source": []
  }
 ],
 "metadata": {
  "kernelspec": {
   "display_name": "Python 3",
   "language": "python",
   "name": "python3"
  },
  "language_info": {
   "codemirror_mode": {
    "name": "ipython",
    "version": 3
   },
   "file_extension": ".py",
   "mimetype": "text/x-python",
   "name": "python",
   "nbconvert_exporter": "python",
   "pygments_lexer": "ipython3",
   "version": "3.10.10"
  },
  "orig_nbformat": 4,
  "vscode": {
   "interpreter": {
    "hash": "939d4fdf0cd167a77f9783d62048e3fa5d48d5e7d47bd02fa5c658d73923020c"
   }
  }
 },
 "nbformat": 4,
 "nbformat_minor": 2
}
